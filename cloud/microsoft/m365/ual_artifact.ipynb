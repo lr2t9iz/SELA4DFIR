{
 "cells": [
  {
   "cell_type": "markdown",
   "id": "16a34733-1ac8-4e66-998e-b402070ba545",
   "metadata": {},
   "source": [
    "# SELA (Security Event Log Analyzer) for DFIR (Digital Forensics and Incident Response)\n",
    "## Microsoft M365 Audit Log Activities (UAL) Logs\n",
    "- References\n",
    "  - https://learn.microsoft.com/en-us/purview/audit-log-activities"
   ]
  },
  {
   "cell_type": "code",
   "execution_count": null,
   "id": "630876da-890e-4863-8568-6d2b0da93997",
   "metadata": {},
   "outputs": [],
   "source": [
    "from pathlib import Path\n",
    "current_path = Path.cwd()\n",
    "for parent in current_path.parents:\n",
    "    if parent.name == \"SELA4DFIR\":\n",
    "        app_dir = parent\n",
    "        break\n",
    "\n",
    "if app_dir is None:\n",
    "    raise RuntimeError(\"ERROR: Could not find 'SELA4DFIR' in the path hierarchy.\")\n",
    "    \n",
    "print(f\"INFO: Working on:\\t{app_dir}\")\n",
    "\n",
    "env_path = app_dir / \".env\"\n",
    "if not env_path.exists():\n",
    "    print(f\"ERROR: Missing .env file in {app_dir}. Please create it to load data into Elasticsearch.\")"
   ]
  },
  {
   "cell_type": "code",
   "execution_count": null,
   "id": "23e24cdb-edad-4a74-8ca2-a7b4e5ca02fa",
   "metadata": {},
   "outputs": [],
   "source": []
  }
 ],
 "metadata": {
  "kernelspec": {
   "display_name": "Python 3 (ipykernel)",
   "language": "python",
   "name": "python3"
  },
  "language_info": {
   "codemirror_mode": {
    "name": "ipython",
    "version": 3
   },
   "file_extension": ".py",
   "mimetype": "text/x-python",
   "name": "python",
   "nbconvert_exporter": "python",
   "pygments_lexer": "ipython3",
   "version": "3.11.9"
  }
 },
 "nbformat": 4,
 "nbformat_minor": 5
}
